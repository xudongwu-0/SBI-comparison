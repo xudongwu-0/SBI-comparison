{
 "cells": [
  {
   "metadata": {
    "collapsed": true,
    "ExecuteTime": {
     "end_time": "2025-01-15T20:32:28.834746Z",
     "start_time": "2025-01-15T20:32:25.810698Z"
    }
   },
   "cell_type": "code",
   "source": [
    "import matplotlib.pyplot as plt\n",
    "import numpy as np\n",
    "import seaborn as sns\n",
    "import tensorflow as tf\n",
    "import tensorflow_probability as tfp\n",
    "\n",
    "import bayesflow as bf\n",
    "from bayesflow.amortizers import AmortizedPointEstimator\n",
    "from bayesflow.benchmarks import Benchmark\n",
    "from bayesflow.helper_networks import ConfigurableMLP\n",
    "from bayesflow.simulation import GenerativeModel, Prior, Simulator\n",
    "from bayesflow.summary_networks import DeepSet\n",
    "\n",
    "np.random.seed(2024)\n"
   ],
   "id": "initial_id",
   "outputs": [
    {
     "name": "stderr",
     "output_type": "stream",
     "text": [
      "/opt/anaconda3/envs/bayesflow/lib/python3.11/site-packages/bayesflow/trainers.py:27: TqdmWarning: IProgress not found. Please update jupyter and ipywidgets. See https://ipywidgets.readthedocs.io/en/stable/user_install.html\n",
      "  from tqdm.autonotebook import tqdm\n"
     ]
    }
   ],
   "execution_count": 1
  },
  {
   "metadata": {
    "ExecuteTime": {
     "end_time": "2025-01-15T20:32:33.854360Z",
     "start_time": "2025-01-15T20:32:33.831284Z"
    }
   },
   "cell_type": "code",
   "source": [
    "#先验分布\n",
    "def batch_prior_fun(batch_size):\n",
    "    dist = tfp.distributions.Normal(0, 1.0)\n",
    "    return dist.sample((batch_size, 1))\n",
    "\n",
    "def batch_simulator_fun(theta, n_obs=1000):\n",
    "    # theta 是从 prior_fun 中采样的参数 μ\n",
    "    # 生成数据服从 N(μ, 1)，每个 μ 生成 n_obs 个观测值\n",
    "    return tf.random.normal((theta.shape[0], n_obs), mean=theta, stddev=1)[:, :, None]\n",
    "\n",
    "prior = Prior(batch_prior_fun=batch_prior_fun)\n",
    "simulator = Simulator(batch_simulator_fun=batch_simulator_fun)\n",
    "generative_model = GenerativeModel(prior=prior, simulator=simulator)"
   ],
   "id": "44b4af44cc643504",
   "outputs": [
    {
     "name": "stderr",
     "output_type": "stream",
     "text": [
      "INFO:root:Performing 2 pilot runs with the anonymous model...\n",
      "INFO:root:Shape of parameter batch after 2 pilot simulations: (batch_size = 2, 1)\n",
      "INFO:root:Shape of simulation batch after 2 pilot simulations: (batch_size = 2, 1000, 1)\n",
      "INFO:root:No optional prior non-batchable context provided.\n",
      "INFO:root:No optional prior batchable context provided.\n",
      "INFO:root:No optional simulation non-batchable context provided.\n",
      "INFO:root:No optional simulation batchable context provided.\n"
     ]
    }
   ],
   "execution_count": 2
  },
  {
   "metadata": {
    "ExecuteTime": {
     "end_time": "2025-01-15T20:32:33.901328Z",
     "start_time": "2025-01-15T20:32:33.899017Z"
    }
   },
   "cell_type": "code",
   "source": [
    "def config(forward_dict):\n",
    "    \"\"\"Helper function for posterior configuration.\"\"\"\n",
    "    input_dict = {}\n",
    "    input_dict[\"parameters\"] = forward_dict[\"prior_draws\"]\n",
    "    input_dict[\"summary_conditions\"] = forward_dict[\"sim_data\"]\n",
    "    return input_dict"
   ],
   "id": "df34b2121cf0ffb8",
   "outputs": [],
   "execution_count": 3
  },
  {
   "metadata": {
    "ExecuteTime": {
     "end_time": "2025-01-15T20:32:33.972027Z",
     "start_time": "2025-01-15T20:32:33.935529Z"
    }
   },
   "cell_type": "code",
   "source": [
    "benchmark = Benchmark(\"gaussian_linear\", mode=\"posterior\", sim_kwargs={\"n_obs\": 10}) #？？\n",
    "\n",
    "summary_dim = 10\n",
    "summary_net = DeepSet(summary_dim)\n",
    "\n",
    "inference_net = ConfigurableMLP(input_dim=summary_dim, output_dim=1, dropout_rate=0.1)\n",
    "\n",
    "amortizer = AmortizedPointEstimator(inference_net, summary_net=summary_net, norm_ord=1) #表示推断的维度是1"
   ],
   "id": "8a97f46a6aee3327",
   "outputs": [
    {
     "name": "stderr",
     "output_type": "stream",
     "text": [
      "INFO:root:Performing 2 pilot runs with the gaussian_linear model...\n",
      "INFO:root:Shape of parameter batch after 2 pilot simulations: (batch_size = 2, 10)\n",
      "INFO:root:Shape of simulation batch after 2 pilot simulations: (batch_size = 2, 10, 10)\n",
      "INFO:root:No optional prior non-batchable context provided.\n",
      "INFO:root:No optional prior batchable context provided.\n",
      "INFO:root:No optional simulation non-batchable context provided.\n",
      "INFO:root:No optional simulation batchable context provided.\n"
     ]
    }
   ],
   "execution_count": 4
  },
  {
   "metadata": {
    "ExecuteTime": {
     "end_time": "2025-01-09T12:00:40.455529Z",
     "start_time": "2025-01-09T12:00:40.294683Z"
    }
   },
   "cell_type": "code",
   "source": "trainer = bf.trainers.Trainer(amortizer=amortizer, configurator=config, generative_model=generative_model)",
   "id": "e85ba7cf4458497d",
   "outputs": [
    {
     "name": "stderr",
     "output_type": "stream",
     "text": [
      "INFO:root:Performing a consistency check with provided components...\n",
      "INFO:root:Done.\n"
     ]
    }
   ],
   "execution_count": 69
  },
  {
   "metadata": {
    "ExecuteTime": {
     "end_time": "2025-01-09T12:01:34.871187Z",
     "start_time": "2025-01-09T12:00:40.643944Z"
    }
   },
   "cell_type": "code",
   "source": [
    "%%time\n",
    "h = trainer.train_online(2, 500, batch_size=32)"
   ],
   "id": "e787327ad2b8daf8",
   "outputs": [
    {
     "name": "stderr",
     "output_type": "stream",
     "text": [
      "WARNING:absl:At this time, the v2.11+ optimizer `tf.keras.optimizers.Adam` runs slowly on M1/M2 Macs, please use the legacy Keras optimizer instead, located at `tf.keras.optimizers.legacy.Adam`.\n",
      "Training epoch 1: 100%|██████████| 500/500 [00:27<00:00, 18.47it/s, Epoch: 1, Iter: 500,Loss: 0.058,Avg.Loss: 0.086,LR: 2.51E-04]\n",
      "Training epoch 2: 100%|██████████| 500/500 [00:27<00:00, 18.42it/s, Epoch: 2, Iter: 500,Loss: 0.037,Avg.Loss: 0.043,LR: 1.24E-09]"
     ]
    },
    {
     "name": "stdout",
     "output_type": "stream",
     "text": [
      "CPU times: user 2min 56s, sys: 58.5 s, total: 3min 55s\n",
      "Wall time: 54.2 s\n"
     ]
    },
    {
     "name": "stderr",
     "output_type": "stream",
     "text": [
      "\n"
     ]
    }
   ],
   "execution_count": 70
  },
  {
   "metadata": {
    "ExecuteTime": {
     "end_time": "2025-01-09T12:01:35.739100Z",
     "start_time": "2025-01-09T12:01:34.880299Z"
    }
   },
   "cell_type": "code",
   "source": [
    "# Quick point estimates can be obtained by simply calling the .estimate() method\n",
    "num_test = 1000\n",
    "test_param_fun = lambda batch_size: tf.ones((batch_size, 1)) * 0  # set theta to 1/3 for all simulations\n",
    "test_model = GenerativeModel(prior=Prior(batch_prior_fun=test_param_fun), simulator=simulator)\n",
    "test_data = config(test_model(num_test))\n",
    "\n",
    "estimates = amortizer.estimate(test_data)[:, 0]"
   ],
   "id": "f8a0c0f6622db40c",
   "outputs": [
    {
     "name": "stderr",
     "output_type": "stream",
     "text": [
      "INFO:root:Performing 2 pilot runs with the anonymous model...\n",
      "INFO:root:Shape of parameter batch after 2 pilot simulations: (batch_size = 2, 1)\n",
      "INFO:root:Shape of simulation batch after 2 pilot simulations: (batch_size = 2, 1000, 1)\n",
      "INFO:root:No optional prior non-batchable context provided.\n",
      "INFO:root:No optional prior batchable context provided.\n",
      "INFO:root:No optional simulation non-batchable context provided.\n",
      "INFO:root:No optional simulation batchable context provided.\n"
     ]
    }
   ],
   "execution_count": 71
  },
  {
   "metadata": {
    "ExecuteTime": {
     "end_time": "2025-01-09T12:01:35.755859Z",
     "start_time": "2025-01-09T12:01:35.749656Z"
    }
   },
   "cell_type": "code",
   "source": [
    "\n",
    "def bayes_estimator(Z, mu_0=1, m=1, sigma_0=1):\n",
    "    \"\"\"\n",
    "    实现贝叶斯估计器，根据先验和观测数据计算后验分布，并从中采样。\n",
    "    \n",
    "    参数：\n",
    "    - Z: 输入数据，形状为 TensorShape([n, 1])。\n",
    "    - mu_0: 先验均值 (prior mean)。\n",
    "    - m: 先验虚拟样本量。\n",
    "    - sigma_0: 先验标准差。\n",
    "    \n",
    "    返回：\n",
    "    - posterior_samples: 从后验分布中采样的 1000 个样本。\n",
    "    \"\"\"\n",
    "    # 确保 Z 是 TensorFlow 张量\n",
    "    Z = tf.convert_to_tensor(Z, dtype=tf.float32)\n",
    "\n",
    "    # 计算观测数据的均值 y_bar 和数量 n\n",
    "    y_bar = tf.reduce_mean(Z)  # 计算均值\n",
    "    n = tf.cast(Z.shape[0], tf.float32)  # 转换 n 为浮点数\n",
    "\n",
    "    # 计算后验分布的参数\n",
    "    posterior_mean = tf.cast((m * mu_0 + n * y_bar) / (m + n), tf.float32)  # 后验均值\n",
    "    posterior_stddev = tf.cast(sigma_0 / tf.sqrt(m + n), tf.float32)  # 后验标准差\n",
    "\n",
    "    # 定义后验分布\n",
    "    dist = tfp.distributions.Normal(loc=posterior_mean, scale=posterior_stddev)\n",
    "\n",
    "    # 从后验分布中采样\n",
    "    posterior_samples = dist.sample(1000).numpy()\n",
    "\n",
    "    return posterior_samples\n",
    "\n",
    "# summary_conditions = tf.reshape(test_data[\"summary_conditions\"], [-1, 1])\n",
    "summary_conditions = tf.reshape(test_data[\"summary_conditions\"][:, 0, :], [-1, 1])\n",
    "\n",
    "# 调用 bayes_estimator\n",
    "reference = bayes_estimator(summary_conditions)\n",
    "\n",
    "# reference = bayes_estimator(test_data[\"summary_conditions\"])"
   ],
   "id": "3c8b8579269843ff",
   "outputs": [],
   "execution_count": 72
  },
  {
   "metadata": {
    "ExecuteTime": {
     "end_time": "2025-01-09T12:01:36.008848Z",
     "start_time": "2025-01-09T12:01:35.766268Z"
    }
   },
   "cell_type": "code",
   "source": [
    "prior_dist = tfp.distributions.Normal(0.0, 1.0)\n",
    "\n",
    "# 从该分布中采样 1000 个点\n",
    "prior_samples = prior_dist.sample(1000).numpy()\n",
    "\n",
    "# 设置 x 轴范围\n",
    "plt.xlim(-2, 2)\n",
    "\n",
    "sns.kdeplot(prior_samples, label=\"Prior for Miu\", color=\"grey\", linestyle=\"--\")\n",
    "sns.kdeplot(estimates, label=\"Neural Bayes estimator\", shade=True)\n",
    "sns.kdeplot(reference, label=\"Bayes estimator\",color = \"orange\", linestyle=\"--\")\n",
    "plt.xlabel(r\"$\\hat\\mu$\")\n",
    "_ = plt.legend()"
   ],
   "id": "16e72999227abd06",
   "outputs": [
    {
     "name": "stderr",
     "output_type": "stream",
     "text": [
      "/var/folders/xh/6yy1qtv504b1yv27rltr5cdc0000gn/T/ipykernel_27462/171379402.py:10: FutureWarning: \n",
      "\n",
      "`shade` is now deprecated in favor of `fill`; setting `fill=True`.\n",
      "This will become an error in seaborn v0.14.0; please update your code.\n",
      "\n",
      "  sns.kdeplot(estimates, label=\"Neural Bayes estimator\", shade=True)\n"
     ]
    },
    {
     "data": {
      "text/plain": [
       "<Figure size 640x480 with 1 Axes>"
      ],
      "image/png": "[encoded data removed]"
     },
     "metadata": {},
     "output_type": "display_data"
    }
   ],
   "execution_count": 73
  },
  {
   "metadata": {
    "ExecuteTime": {
     "end_time": "2025-01-09T11:39:24.311653Z",
     "start_time": "2025-01-09T11:39:24.301881Z"
    }
   },
   "cell_type": "code",
   "source": [
    "# Quick point estimates can be obtained by simply calling the .estimate() method\n",
    "num_test = 1000\n",
    "test_param_fun = lambda batch_size: tf.ones((batch_size, 1)) * 1/ 3  # set theta to 1/3 for all simulations\n",
    "test_model = GenerativeModel(prior=Prior(batch_prior_fun=test_param_fun), simulator=simulator)\n",
    "test_data = config(test_model(num_test))"
   ],
   "id": "4face09e85a1edb9",
   "outputs": [
    {
     "name": "stderr",
     "output_type": "stream",
     "text": [
      "INFO:root:Performing 2 pilot runs with the anonymous model...\n",
      "INFO:root:Shape of parameter batch after 2 pilot simulations: (batch_size = 2, 1)\n",
      "INFO:root:Shape of simulation batch after 2 pilot simulations: (batch_size = 2, 1000, 1)\n",
      "INFO:root:No optional prior non-batchable context provided.\n",
      "INFO:root:No optional prior batchable context provided.\n",
      "INFO:root:No optional simulation non-batchable context provided.\n",
      "INFO:root:No optional simulation batchable context provided.\n"
     ]
    }
   ],
   "execution_count": 48
  },
  {
   "metadata": {
    "ExecuteTime": {
     "end_time": "2025-01-09T11:39:25.749641Z",
     "start_time": "2025-01-09T11:39:24.973408Z"
    }
   },
   "cell_type": "code",
   "source": [
    "%%time\n",
    "estimates = amortizer.estimate(test_data)[:, 0]"
   ],
   "id": "77490fa0cdeeed4e",
   "outputs": [
    {
     "name": "stdout",
     "output_type": "stream",
     "text": [
      "CPU times: user 2.13 s, sys: 1.1 s, total: 3.22 s\n",
      "Wall time: 773 ms\n"
     ]
    }
   ],
   "execution_count": 49
  },
  {
   "metadata": {
    "ExecuteTime": {
     "end_time": "2025-01-09T11:40:34.464955Z",
     "start_time": "2025-01-09T11:40:34.457100Z"
    }
   },
   "cell_type": "code",
   "source": [
    "\n",
    "def bayes_estimator(Z, mu_0=1, m=1, sigma_0=1):\n",
    "    \"\"\"\n",
    "    实现贝叶斯估计器，根据先验和观测数据计算后验分布，并从中采样。\n",
    "    \n",
    "    参数：\n",
    "    - Z: 输入数据，形状为 TensorShape([n, 1])。\n",
    "    - mu_0: 先验均值 (prior mean)。\n",
    "    - m: 先验虚拟样本量。\n",
    "    - sigma_0: 先验标准差。\n",
    "    \n",
    "    返回：\n",
    "    - posterior_samples: 从后验分布中采样的 1000 个样本。\n",
    "    \"\"\"\n",
    "    # 确保 Z 是 TensorFlow 张量\n",
    "    Z = tf.convert_to_tensor(Z, dtype=tf.float32)\n",
    "\n",
    "    # 计算观测数据的均值 y_bar 和数量 n\n",
    "    y_bar = tf.reduce_mean(Z)  # 计算均值\n",
    "    n = tf.cast(Z.shape[0], tf.float32)  # 转换 n 为浮点数\n",
    "\n",
    "    # 计算后验分布的参数\n",
    "    posterior_mean = tf.cast((m * mu_0 + n * y_bar) / (m + n), tf.float32)  # 后验均值\n",
    "    posterior_stddev = tf.cast(sigma_0 / tf.sqrt(m + n), tf.float32)  # 后验标准差\n",
    "\n",
    "    # 定义后验分布\n",
    "    dist = tfp.distributions.Normal(loc=posterior_mean, scale=posterior_stddev)\n",
    "\n",
    "    # 从后验分布中采样\n",
    "    posterior_samples = dist.sample(1000).numpy()\n",
    "\n",
    "    return posterior_samples\n",
    "\n",
    "# summary_conditions = tf.reshape(test_data[\"summary_conditions\"], [-1, 1])\n",
    "summary_conditions = tf.reshape(test_data[\"summary_conditions\"][:, 0, :], [-1, 1])\n",
    "\n",
    "# 调用 bayes_estimator\n",
    "reference = bayes_estimator(summary_conditions)\n",
    "\n",
    "# reference = bayes_estimator(test_data[\"summary_conditions\"])"
   ],
   "id": "3d0530fc19bad61e",
   "outputs": [],
   "execution_count": 56
  },
  {
   "metadata": {
    "ExecuteTime": {
     "end_time": "2025-01-09T11:40:35.340798Z",
     "start_time": "2025-01-09T11:40:35.338982Z"
    }
   },
   "cell_type": "code",
   "source": [
    "# 展开为n，1\n",
    "# summary_conditions = tf.reshape(test_data[\"summary_conditions\"], [-1, 1])"
   ],
   "id": "22a71df7ceb32084",
   "outputs": [],
   "execution_count": 57
  },
  {
   "metadata": {
    "ExecuteTime": {
     "end_time": "2025-01-09T11:40:36.057363Z",
     "start_time": "2025-01-09T11:40:35.898877Z"
    }
   },
   "cell_type": "code",
   "source": [
    "prior_dist = tfp.distributions.Normal(0.0, 1.0)\n",
    "\n",
    "# 从该分布中采样 1000 个点\n",
    "prior_samples = prior_dist.sample(1000).numpy()\n",
    "\n",
    "# 设置 x 轴范围\n",
    "plt.xlim(-2, 2)\n",
    "\n",
    "sns.kdeplot(prior_samples, label=\"Prior for Miu\", color=\"grey\", linestyle=\"--\")\n",
    "sns.kdeplot(estimates, label=\"Neural Bayes estimator\", shade=True)\n",
    "sns.kdeplot(reference, label=\"Bayes estimator\",color = \"orange\", linestyle=\"--\")\n",
    "plt.xlabel(r\"$\\hat\\mu$\")\n",
    "_ = plt.legend()"
   ],
   "id": "db02fb5470dfc97f",
   "outputs": [
    {
     "name": "stderr",
     "output_type": "stream",
     "text": [
      "/var/folders/xh/6yy1qtv504b1yv27rltr5cdc0000gn/T/ipykernel_27462/171379402.py:10: FutureWarning: \n",
      "\n",
      "`shade` is now deprecated in favor of `fill`; setting `fill=True`.\n",
      "This will become an error in seaborn v0.14.0; please update your code.\n",
      "\n",
      "  sns.kdeplot(estimates, label=\"Neural Bayes estimator\", shade=True)\n"
     ]
    },
    {
     "data": {
      "text/plain": [
       "<Figure size 640x480 with 1 Axes>"
      ],
      "image/png": "[encoded data removed]"
     },
     "metadata": {},
     "output_type": "display_data"
    }
   ],
   "execution_count": 58
  },
  {
   "metadata": {
    "ExecuteTime": {
     "end_time": "2025-01-09T11:41:35.312755Z",
     "start_time": "2025-01-09T11:41:34.310688Z"
    }
   },
   "cell_type": "code",
   "source": [
    "# Quick point estimates can be obtained by simply calling the .estimate() method\n",
    "num_test = 1000\n",
    "test_param_fun = lambda batch_size: tf.ones((batch_size, 1)) * -1  # set theta to 1/3 for all simulations\n",
    "test_model = GenerativeModel(prior=Prior(batch_prior_fun=test_param_fun), simulator=simulator)\n",
    "test_data = config(test_model(num_test))\n",
    "\n",
    "estimates = amortizer.estimate(test_data)[:, 0]"
   ],
   "id": "24c33037b2dd5af4",
   "outputs": [
    {
     "name": "stderr",
     "output_type": "stream",
     "text": [
      "INFO:root:Performing 2 pilot runs with the anonymous model...\n",
      "INFO:root:Shape of parameter batch after 2 pilot simulations: (batch_size = 2, 1)\n",
      "INFO:root:Shape of simulation batch after 2 pilot simulations: (batch_size = 2, 1000, 1)\n",
      "INFO:root:No optional prior non-batchable context provided.\n",
      "INFO:root:No optional prior batchable context provided.\n",
      "INFO:root:No optional simulation non-batchable context provided.\n",
      "INFO:root:No optional simulation batchable context provided.\n"
     ]
    }
   ],
   "execution_count": 62
  },
  {
   "metadata": {
    "ExecuteTime": {
     "end_time": "2025-01-09T11:41:35.984902Z",
     "start_time": "2025-01-09T11:41:35.977642Z"
    }
   },
   "cell_type": "code",
   "source": [
    "\n",
    "def bayes_estimator(Z, mu_0=1, m=1, sigma_0=1):\n",
    "    \"\"\"\n",
    "    实现贝叶斯估计器，根据先验和观测数据计算后验分布，并从中采样。\n",
    "    \n",
    "    参数：\n",
    "    - Z: 输入数据，形状为 TensorShape([n, 1])。\n",
    "    - mu_0: 先验均值 (prior mean)。\n",
    "    - m: 先验虚拟样本量。\n",
    "    - sigma_0: 先验标准差。\n",
    "    \n",
    "    返回：\n",
    "    - posterior_samples: 从后验分布中采样的 1000 个样本。\n",
    "    \"\"\"\n",
    "    # 确保 Z 是 TensorFlow 张量\n",
    "    Z = tf.convert_to_tensor(Z, dtype=tf.float32)\n",
    "\n",
    "    # 计算观测数据的均值 y_bar 和数量 n\n",
    "    y_bar = tf.reduce_mean(Z)  # 计算均值\n",
    "    n = tf.cast(Z.shape[0], tf.float32)  # 转换 n 为浮点数\n",
    "\n",
    "    # 计算后验分布的参数\n",
    "    posterior_mean = tf.cast((m * mu_0 + n * y_bar) / (m + n), tf.float32)  # 后验均值\n",
    "    posterior_stddev = tf.cast(sigma_0 / tf.sqrt(m + n), tf.float32)  # 后验标准差\n",
    "\n",
    "    # 定义后验分布\n",
    "    dist = tfp.distributions.Normal(loc=posterior_mean, scale=posterior_stddev)\n",
    "\n",
    "    # 从后验分布中采样\n",
    "    posterior_samples = dist.sample(1000).numpy()\n",
    "\n",
    "    return posterior_samples\n",
    "\n",
    "# summary_conditions = tf.reshape(test_data[\"summary_conditions\"], [-1, 1])\n",
    "summary_conditions = tf.reshape(test_data[\"summary_conditions\"][:, 0, :], [-1, 1])\n",
    "\n",
    "# 调用 bayes_estimator\n",
    "reference = bayes_estimator(summary_conditions)\n",
    "\n",
    "# reference = bayes_estimator(test_data[\"summary_conditions\"])"
   ],
   "id": "7b180f2253caf90f",
   "outputs": [],
   "execution_count": 63
  },
  {
   "metadata": {
    "ExecuteTime": {
     "end_time": "2025-01-09T11:41:36.884485Z",
     "start_time": "2025-01-09T11:41:36.644045Z"
    }
   },
   "cell_type": "code",
   "source": [
    "prior_dist = tfp.distributions.Normal(0.0, 1.0)\n",
    "\n",
    "# 从该分布中采样 1000 个点\n",
    "prior_samples = prior_dist.sample(1000).numpy()\n",
    "\n",
    "# 设置 x 轴范围\n",
    "plt.xlim(-2, 2)\n",
    "\n",
    "sns.kdeplot(prior_samples, label=\"Prior for Miu\", color=\"grey\", linestyle=\"--\")\n",
    "sns.kdeplot(estimates, label=\"Neural Bayes estimator\", shade=True)\n",
    "sns.kdeplot(reference, label=\"Bayes estimator\",color = \"orange\", linestyle=\"--\")\n",
    "plt.xlabel(r\"$\\hat\\mu$\")\n",
    "_ = plt.legend()"
   ],
   "id": "f122b5d0098654b7",
   "outputs": [
    {
     "name": "stderr",
     "output_type": "stream",
     "text": [
      "/var/folders/xh/6yy1qtv504b1yv27rltr5cdc0000gn/T/ipykernel_27462/171379402.py:10: FutureWarning: \n",
      "\n",
      "`shade` is now deprecated in favor of `fill`; setting `fill=True`.\n",
      "This will become an error in seaborn v0.14.0; please update your code.\n",
      "\n",
      "  sns.kdeplot(estimates, label=\"Neural Bayes estimator\", shade=True)\n"
     ]
    },
    {
     "data": {
      "text/plain": [
       "<Figure size 640x480 with 1 Axes>"
      ],
      "image/png": "[encoded data removed]"
     },
     "metadata": {},
     "output_type": "display_data"
    }
   ],
   "execution_count": 64
  },
  {
   "metadata": {},
   "cell_type": "code",
   "outputs": [],
   "execution_count": null,
   "source": "",
   "id": "c49c42d914787516"
  }
 ],
 "metadata": {
  "kernelspec": {
   "display_name": "Python 3",
   "language": "python",
   "name": "python3"
  },
  "language_info": {
   "codemirror_mode": {
    "name": "ipython",
    "version": 2
   },
   "file_extension": ".py",
   "mimetype": "text/x-python",
   "name": "python",
   "nbconvert_exporter": "python",
   "pygments_lexer": "ipython2",
   "version": "2.7.6"
  }
 },
 "nbformat": 4,
 "nbformat_minor": 5
}
