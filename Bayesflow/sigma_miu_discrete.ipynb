{
 "cells": [
  {
   "metadata": {
    "collapsed": true,
    "ExecuteTime": {
     "end_time": "2025-01-18T10:27:31.628148Z",
     "start_time": "2025-01-18T10:27:28.312724Z"
    }
   },
   "cell_type": "code",
   "source": [
    "import bayesflow as bf\n",
    "import tensorflow_probability as tfp\n",
    "import tensorflow as tf\n",
    "import numpy as np\n",
    "import torch\n",
    "from torch.distributions import Normal, Independent,InverseGamma"
   ],
   "id": "initial_id",
   "outputs": [
    {
     "name": "stderr",
     "output_type": "stream",
     "text": [
      "/opt/anaconda3/envs/bayesflow/lib/python3.11/site-packages/bayesflow/trainers.py:27: TqdmWarning: IProgress not found. Please update jupyter and ipywidgets. See https://ipywidgets.readthedocs.io/en/stable/user_install.html\n",
      "  from tqdm.autonotebook import tqdm\n"
     ]
    }
   ],
   "execution_count": 3
  },
  {
   "metadata": {},
   "cell_type": "markdown",
   "source": "here we try to simulate from discrete distribution. There is no errors during the training.But in theory, because gradient descent requires derivatives, it's problematic. The use of discrete has not been studied",
   "id": "c2e96bd5dd2c6196"
  },
  {
   "metadata": {
    "ExecuteTime": {
     "end_time": "2025-01-18T10:27:33.719080Z",
     "start_time": "2025-01-18T10:27:33.714302Z"
    }
   },
   "cell_type": "code",
   "source": [
    "\n",
    "def prior_fun(batch_size=1):\n",
    "    # Discrete \n",
    "    mean, stddev = 10.0, 1.0\n",
    "    miu_dist = tfp.distributions.Bernoulli(0.5)\n",
    "    miu_samples = tf.cast(miu_dist.sample(batch_size), dtype=tf.float32)\n",
    "\n",
    "    # InverseGamma(alpha, beta)\n",
    "    alpha, beta = 2.0, 1.0\n",
    "    sigma2_dist = tfp.distributions.InverseGamma(concentration=alpha, scale=beta)\n",
    "    sigma2_samples = tf.cast(sigma2_dist.sample(batch_size), dtype=tf.float32)\n",
    "    # (batch_size, 2) \n",
    "    return tf.concat([miu_samples[:, None], sigma2_samples[:, None]], axis=-1)\n",
    "\n",
    "\n",
    "\n",
    "def likelihood_fun(params, n_obs=1000):\n",
    "    miu = params[:, 0]  # miu\n",
    "    sigma2 = params[:, 1]  # sigma^2\n",
    "    return tf.random.normal(\n",
    "        shape=(params.shape[0], n_obs, 1),\n",
    "        mean=miu[:, None],\n",
    "        stddev=tf.sqrt(sigma2)[:, None]\n",
    "    )"
   ],
   "id": "44b4af44cc643504",
   "outputs": [],
   "execution_count": 4
  },
  {
   "metadata": {
    "ExecuteTime": {
     "end_time": "2025-01-18T10:27:34.564553Z",
     "start_time": "2025-01-18T10:27:34.321793Z"
    }
   },
   "cell_type": "code",
   "source": [
    "\n",
    "prior = bf.simulation.Prior(prior_fun=prior_fun)\n",
    "simulator = bf.simulation.Simulator(simulator_fun=likelihood_fun)\n",
    "model = bf.simulation.GenerativeModel(prior=prior, simulator=simulator)\n",
    "\n",
    "summary_net = bf.networks.DeepSet(summary_dim=10)\n",
    "\n",
    "inference_net = bf.networks.InvertibleNetwork(\n",
    "    num_params=2,\n",
    "    num_coupling_layers=4,\n",
    ")\n",
    "\n",
    "amortizer = bf.amortizers.AmortizedPosterior(inference_net, summary_net)\n",
    "\n"
   ],
   "id": "8a97f46a6aee3327",
   "outputs": [
    {
     "name": "stderr",
     "output_type": "stream",
     "text": [
      "INFO:root:Performing 2 pilot runs with the anonymous model...\n",
      "INFO:root:Shape of parameter batch after 2 pilot simulations: (batch_size = 2, 1, 2)\n",
      "INFO:root:Shape of simulation batch after 2 pilot simulations: (batch_size = 2, 1, 1000, 1)\n",
      "INFO:root:No optional prior non-batchable context provided.\n",
      "INFO:root:No optional prior batchable context provided.\n",
      "INFO:root:No optional simulation non-batchable context provided.\n",
      "INFO:root:No optional simulation batchable context provided.\n"
     ]
    }
   ],
   "execution_count": 5
  },
  {
   "metadata": {
    "ExecuteTime": {
     "end_time": "2025-01-18T10:27:36.595843Z",
     "start_time": "2025-01-18T10:27:36.204308Z"
    }
   },
   "cell_type": "code",
   "source": [
    "# Define the Trainer\n",
    "trainer = bf.trainers.Trainer(amortizer=amortizer, generative_model=model)\n",
    "\n",
    "# Perform a single model call (optional, to verify the model is working correctly)\n",
    "_ = model(batch_size=32)"
   ],
   "id": "86c27ff78facdd95",
   "outputs": [
    {
     "name": "stderr",
     "output_type": "stream",
     "text": [
      "INFO:root:Performing a consistency check with provided components...\n",
      "INFO:root:Done.\n"
     ]
    }
   ],
   "execution_count": 6
  },
  {
   "metadata": {},
   "cell_type": "code",
   "outputs": [],
   "execution_count": null,
   "source": [
    "# 开始在线训练\n",
    "history = trainer.train_online(\n",
    "    epochs=5,               # 10 epoch\n",
    "    iterations_per_epoch=500,  \n",
    "    batch_size=32,        \n",
    "    validation_sims=200    \n",
    ")"
   ],
   "id": "47607308a74aba0a"
  }
 ],
 "metadata": {
  "kernelspec": {
   "display_name": "Python 3",
   "language": "python",
   "name": "python3"
  },
  "language_info": {
   "codemirror_mode": {
    "name": "ipython",
    "version": 2
   },
   "file_extension": ".py",
   "mimetype": "text/x-python",
   "name": "python",
   "nbconvert_exporter": "python",
   "pygments_lexer": "ipython2",
   "version": "2.7.6"
  }
 },
 "nbformat": 4,
 "nbformat_minor": 5
}
