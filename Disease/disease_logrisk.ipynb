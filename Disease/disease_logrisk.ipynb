{
 "cells": [
  {
   "metadata": {
    "ExecuteTime": {
     "end_time": "2025-02-03T15:34:31.687918Z",
     "start_time": "2025-02-03T15:34:28.341247Z"
    }
   },
   "cell_type": "code",
   "source": [
    "import bayesflow as bf\n",
    "import tensorflow_probability as tfp\n",
    "import tensorflow as tf\n",
    "import numpy as np\n",
    "import torch\n",
    "from torch.distributions import Normal, Independent,InverseGamma\n",
    "\n",
    "import rpy2.robjects as robjects\n",
    "import numpy as np"
   ],
   "id": "52e9f7015ecc1a4c",
   "outputs": [
    {
     "name": "stderr",
     "output_type": "stream",
     "text": [
      "/opt/anaconda3/envs/bayesflow/lib/python3.11/site-packages/bayesflow/trainers.py:27: TqdmWarning: IProgress not found. Please update jupyter and ipywidgets. See https://ipywidgets.readthedocs.io/en/stable/user_install.html\n",
      "  from tqdm.autonotebook import tqdm\n"
     ]
    }
   ],
   "execution_count": 1
  },
  {
   "metadata": {
    "ExecuteTime": {
     "end_time": "2025-02-04T09:57:07.415796Z",
     "start_time": "2025-02-04T09:57:06.530552Z"
    }
   },
   "cell_type": "code",
   "source": [
    "import rpy2.robjects as robjects\n",
    "import numpy as np\n",
    "\n",
    "# 从 R 中加载数据\n",
    "robjects.r('load(\"SpainPROV_CerebrovascularDiseases.Rdata\")')\n",
    "\n",
    "Rs = robjects.r('as.matrix(Rs)')\n",
    "\n",
    "# 将 Rs 转换为 NumPy 数组\n",
    "Rs_numpy = np.array(Rs)\n",
    "\n",
    "# 检查矩阵的维度\n",
    "print(\"Rs_numpy shape:\", Rs_numpy.shape)\n"
   ],
   "id": "d2988a02b851a322",
   "outputs": [
    {
     "name": "stderr",
     "output_type": "stream",
     "text": [
      "R[write to console]: Loading required package: Matrix\n",
      "\n"
     ]
    },
    {
     "name": "stdout",
     "output_type": "stream",
     "text": [
      "Rs_numpy shape: (47, 47)\n"
     ]
    }
   ],
   "execution_count": 1
  },
  {
   "metadata": {
    "ExecuteTime": {
     "end_time": "2025-02-04T09:57:07.436301Z",
     "start_time": "2025-02-04T09:57:07.430290Z"
    }
   },
   "cell_type": "code",
   "source": [
    "# 计算特征分解\n",
    "eigenvalues, eigenvectors = np.linalg.eig(Rs_numpy)\n",
    "\n",
    "# 打印特征值和特征向量\n",
    "print(\"Eigenvalues:\", eigenvalues)\n",
    "print(\"Eigenvectors:\", eigenvectors)\n",
    "\n",
    "# 计算协方差矩阵 Q\n",
    "Q = eigenvectors @ np.diag(eigenvalues) @ eigenvectors.T  # Q = V * D * V.T\n",
    "print(\"Covariance matrix Q:\", Q)\n"
   ],
   "id": "753690d5b0699908",
   "outputs": [
    {
     "name": "stdout",
     "output_type": "stream",
     "text": [
      "Eigenvalues: [4.02898372e+00 3.91760840e+00 1.16270678e-16 8.70103967e-02\n",
      " 1.36471249e-01 3.68894189e+00 2.84373915e-01 3.35903480e-01\n",
      " 4.24394939e-01 3.57526766e+00 3.48700471e+00 5.49480100e-01\n",
      " 6.86479773e-01 3.28806127e+00 3.24627671e+00 3.22501234e+00\n",
      " 8.25429149e-01 9.23508897e-01 9.38544804e-01 1.00121440e+00\n",
      " 1.08337936e+00 3.09257535e+00 1.18549682e+00 1.31239606e+00\n",
      " 1.37151192e+00 1.41839871e+00 1.47548171e+00 2.94744613e+00\n",
      " 2.90831092e+00 2.81326532e+00 2.78203196e+00 2.70367067e+00\n",
      " 2.65184367e+00 2.55747008e+00 2.53141064e+00 2.45001418e+00\n",
      " 2.38822842e+00 2.32899568e+00 2.26667887e+00 2.10897083e+00\n",
      " 2.09243660e+00 1.96124040e+00 1.90970136e+00 1.87819751e+00\n",
      " 1.75053418e+00 1.68927737e+00 1.71788199e+00]\n",
      "Eigenvectors: [[ 0.09193583  0.12350732 -0.14586499 ...  0.16560432  0.01980325\n",
      "   0.00368928]\n",
      " [ 0.05232506 -0.14409124 -0.14586499 ...  0.07575858 -0.08023009\n",
      "   0.07457773]\n",
      " [-0.00563195  0.02052873 -0.14586499 ... -0.04477425  0.08674872\n",
      "  -0.07251008]\n",
      " ...\n",
      " [ 0.0793642   0.02634496 -0.14586499 ...  0.16954928 -0.3704398\n",
      "  -0.50790586]\n",
      " [-0.02041483 -0.00321257 -0.14586499 ...  0.12982286  0.09346524\n",
      "  -0.21122883]\n",
      " [-0.4079214   0.68598001 -0.14586499 ...  0.01444963  0.01212968\n",
      "  -0.02346849]]\n",
      "Covariance matrix Q: [[ 2.07267600e+00 -4.42685168e-15 -2.22190972e-15 ... -4.14535200e-01\n",
      "  -7.15573434e-17 -1.21089120e-15]\n",
      " [-4.43379057e-15  2.90174640e+00 -4.14535200e-01 ...  1.54043445e-15\n",
      "  -5.53376789e-15 -5.90716712e-15]\n",
      " [-2.23925696e-15 -4.14535200e-01  1.24360560e+00 ...  1.24900090e-15\n",
      "   3.70536934e-15  3.30031141e-15]\n",
      " ...\n",
      " [-4.14535200e-01  1.54043445e-15  1.26287869e-15 ...  1.65814080e+00\n",
      "   4.71844785e-16 -4.89192020e-16]\n",
      " [-9.93129190e-17 -5.60662627e-15  3.73312492e-15 ...  4.71844785e-16\n",
      "   1.65814080e+00 -9.26342336e-16]\n",
      " [-1.21083699e-15 -5.90716712e-15  3.26561694e-15 ... -5.03069808e-16\n",
      "  -9.41954847e-16  3.31628160e+00]]\n"
     ]
    }
   ],
   "execution_count": 2
  },
  {
   "metadata": {
    "ExecuteTime": {
     "end_time": "2025-02-04T09:57:07.473562Z",
     "start_time": "2025-02-04T09:57:07.471188Z"
    }
   },
   "cell_type": "code",
   "source": [
    "eigenvalues, _ = np.linalg.eig(Q)\n",
    "print(\"Eigenvalues of Q:\", eigenvalues)\n"
   ],
   "id": "dc3b3b4ebb534cdd",
   "outputs": [
    {
     "name": "stdout",
     "output_type": "stream",
     "text": [
      "Eigenvalues of Q: [ 4.02898372e+00  3.91760840e+00 -1.27713007e-17  8.70103967e-02\n",
      "  1.36471249e-01  3.68894189e+00  2.84373915e-01  3.35903480e-01\n",
      "  4.24394939e-01  3.57526766e+00  3.48700471e+00  5.49480100e-01\n",
      "  6.86479773e-01  3.28806127e+00  3.24627671e+00  3.22501234e+00\n",
      "  8.25429149e-01  9.23508897e-01  9.38544804e-01  1.00121440e+00\n",
      "  1.08337936e+00  3.09257535e+00  1.18549682e+00  1.31239606e+00\n",
      "  1.37151192e+00  1.41839871e+00  1.47548171e+00  2.94744613e+00\n",
      "  2.90831092e+00  2.81326532e+00  2.78203196e+00  2.70367067e+00\n",
      "  2.65184367e+00  2.55747008e+00  2.53141064e+00  2.45001418e+00\n",
      "  2.38822842e+00  2.32899568e+00  2.26667887e+00  2.10897083e+00\n",
      "  2.09243660e+00  1.96124040e+00  1.90970136e+00  1.87819751e+00\n",
      "  1.75053418e+00  1.68927737e+00  1.71788199e+00]\n"
     ]
    }
   ],
   "execution_count": 3
  },
  {
   "metadata": {
    "ExecuteTime": {
     "end_time": "2025-02-04T09:57:18.944792Z",
     "start_time": "2025-02-04T09:57:18.941324Z"
    }
   },
   "cell_type": "code",
   "source": [
    "# # 如果有负特征值，添加一个非常小的正数到对角线\n",
    "Q_corrected = Q + np.eye(Q.shape[0]) * 1e-6  # 1e-6 是一个小的常数\n",
    "# \n",
    "# 重新计算特征值\n",
    "eigenvalues, _ = np.linalg.eig(Q_corrected)\n",
    "print(\"Corrected Eigenvalues of Q:\", eigenvalues)\n"
   ],
   "id": "fb649268d36a282",
   "outputs": [
    {
     "name": "stdout",
     "output_type": "stream",
     "text": [
      "Corrected Eigenvalues of Q: [4.02898472e+00 3.91760940e+00 1.00000000e-06 8.70113967e-02\n",
      " 1.36472249e-01 3.68894289e+00 2.84374915e-01 3.35904480e-01\n",
      " 4.24395939e-01 3.57526866e+00 3.48700571e+00 5.49481100e-01\n",
      " 6.86480773e-01 3.28806227e+00 3.24627771e+00 3.22501334e+00\n",
      " 8.25430149e-01 9.23509897e-01 9.38545804e-01 1.00121540e+00\n",
      " 1.08338036e+00 3.09257635e+00 1.18549782e+00 1.31239706e+00\n",
      " 1.37151292e+00 1.41839971e+00 1.47548271e+00 2.94744713e+00\n",
      " 2.90831192e+00 2.81326632e+00 2.78203296e+00 2.70367167e+00\n",
      " 2.65184467e+00 2.55747108e+00 2.53141164e+00 2.45001518e+00\n",
      " 2.38822942e+00 2.32899668e+00 2.26667987e+00 2.10897183e+00\n",
      " 2.09243760e+00 1.96124140e+00 1.90970236e+00 1.87819851e+00\n",
      " 1.75053518e+00 1.68927837e+00 1.71788299e+00]\n"
     ]
    }
   ],
   "execution_count": 7
  },
  {
   "metadata": {
    "ExecuteTime": {
     "end_time": "2025-02-04T09:57:11.132916Z",
     "start_time": "2025-02-04T09:57:07.516813Z"
    }
   },
   "cell_type": "code",
   "source": [
    "import tensorflow_probability as tfp\n",
    "import tensorflow as tf\n",
    "\n",
    "# 生成随机效应样本的函数，模拟 rMVNormP_eigen\n",
    "def rMVNormP_eigen(s, mu, Q):\n",
    "    mvn = tfp.distributions.MultivariateNormalFullCovariance(\n",
    "        loc=mu, covariance_matrix=Q\n",
    "    )\n",
    "    samples = mvn.sample(s)\n",
    "    return samples\n",
    "\n",
    "# 生成随机效应样本\n",
    "s = 100  # 生成 100 个样本\n",
    "mu = np.zeros(Rs_numpy.shape[0])  # 均值为零\n",
    "\n",
    "samples = rMVNormP_eigen(s=s, mu=mu, Q=Q)\n",
    "\n",
    "# 计算 log.risk\n",
    "intercept = 0\n",
    "log_risk = intercept + samples\n",
    "print(\"log.risk:\", log_risk)\n"
   ],
   "id": "5de929abdff6b743",
   "outputs": [
    {
     "name": "stdout",
     "output_type": "stream",
     "text": [
      "WARNING:tensorflow:From /opt/anaconda3/envs/bayesflow/lib/python3.11/site-packages/tensorflow_probability/python/distributions/distribution.py:342: MultivariateNormalFullCovariance.__init__ (from tensorflow_probability.python.distributions.mvn_full_covariance) is deprecated and will be removed after 2019-12-01.\n",
      "Instructions for updating:\n",
      "`MultivariateNormalFullCovariance` is deprecated, use `MultivariateNormalTriL(loc=loc, scale_tril=tf.linalg.cholesky(covariance_matrix))` instead.\n",
      "log.risk: tf.Tensor(\n",
      "[[ 0.27719738 -0.27776796 -0.23444625 ... -1.84332433  2.70626042\n",
      "  -2.19835147]\n",
      " [-2.68584589  0.06403672 -0.24348869 ...  3.09788747 -2.37001795\n",
      "   1.17701691]\n",
      " [-1.16399424  0.55263001  0.71192311 ... -0.01662258  0.35230198\n",
      "   1.20599764]\n",
      " ...\n",
      " [ 0.82818925  1.54549938  0.66996058 ... -1.01692731 -0.19067121\n",
      "   2.36206349]\n",
      " [-1.47382973  0.80086691 -1.16054818 ... -0.35046093 -2.91210992\n",
      "   0.94168222]\n",
      " [-2.21587004  0.28695264 -1.61796679 ... -0.32736237 -1.40173897\n",
      "  -0.04374804]], shape=(100, 47), dtype=float64)\n"
     ]
    }
   ],
   "execution_count": 5
  },
  {
   "metadata": {
    "ExecuteTime": {
     "end_time": "2025-02-04T09:57:11.195305Z",
     "start_time": "2025-02-04T09:57:11.193505Z"
    }
   },
   "cell_type": "code",
   "source": "mu = np.zeros(Rs_numpy.shape[0], dtype=np.float32) ",
   "id": "d29ddc491750026f",
   "outputs": [],
   "execution_count": 6
  },
  {
   "metadata": {
    "jupyter": {
     "is_executing": true
    },
    "ExecuteTime": {
     "start_time": "2025-02-03T15:40:55.496470Z"
    }
   },
   "cell_type": "code",
   "source": [
    "# import tensorflow as tf\n",
    "# import tensorflow_probability as tfp\n",
    "# import bayesflow as bf\n",
    "# import numpy as np\n",
    "# \n",
    "# # ----------------------\n",
    "# # 定义先验分布 (Prior)\n",
    "# # ----------------------\n",
    "# # def prior_fun(batch_size=1):\n",
    "# #     \"\"\"\n",
    "# #     定义 intercept 的先验分布:\n",
    "# #     - intercept (\\eta): Uniform(low, high)\n",
    "# #     \"\"\"\n",
    "# #     low, high = -2.0, 2.0  # 设定 intercept 的范围\n",
    "# #     intercept_dist = tfp.distributions.Uniform(low=low, high=high)\n",
    "# #     intercept_samples = intercept_dist.sample(batch_size)\n",
    "# #     \n",
    "# #     # 返回形状为 (batch_size, 1) 的先验样本\n",
    "# #     return tf.expand_dims(intercept_samples, axis=-1)\n",
    "# \n",
    "# def prior_fun(batch_size=47):\n",
    "#     \"\"\"\n",
    "#     定义 intercept 的先验分布:\n",
    "#     - intercept (\\eta): Uniform(low, high)\n",
    "#     \"\"\"\n",
    "#     low, high = 1.0, 2.0  # 设定 intercept 的范围\n",
    "#     tau_dist = tfp.distributions.Uniform(low=low, high=high)\n",
    "#     tau_samples = tau_dist.sample(1)\n",
    "#     \n",
    "#     # Q_tau_adjusted = Q * tau_samples\n",
    "#     \n",
    "#     mvn = tfp.distributions.MultivariateNormalFullCovariance(\n",
    "#         loc=mu, covariance_matrix=Q*tau_samples\n",
    "#     )\n",
    "#  \n",
    "#     samples = mvn.sample()\n",
    "#     intercept = 0\n",
    "#     log_risk = intercept + samples\n",
    "#     \n",
    "#     tau_samples_expanded = tf.broadcast_to(tau_samples, (1, Rs_numpy.shape[0])) # 广播 tau_samples\n",
    "#     \n",
    "#     # 返回 log.risk 和 tau_samples，保证它们的形状一致\n",
    "#     return tf.stack([log_risk, tau_samples_expanded], axis=-1)\n",
    "# \n",
    "# \n",
    "# # ----------------------\n",
    "# # 定义模拟器 (Simulator)\n",
    "# # ----------------------\n",
    "# def likelihood_fun(params, n_obs=100):\n",
    "#     \"\"\"\n",
    "#     模拟器 (生成观测数据):\n",
    "#     - 根据 intercept 和固定 tau 值生成泊松分布的观测数据\n",
    "#     \"\"\"\n",
    "#     log_risk = params[:,:,0]  # 提取log_risk\n",
    "# \n",
    "#     # 生成观测病例数: O_i | r_i ~ Poisson(e^log_risk)\n",
    "#     observed_cases = tf.random.poisson(\n",
    "#         lam=tf.exp(log_risk), shape=[n_obs]\n",
    "#     )  # 形状: (n_obs, batch_size, n_areas)\n",
    "# \n",
    "#     # 返回形状为 (batch_size, n_obs, n_areas)\n",
    "#     return tf.transpose(observed_cases, perm=[1, 0, 2])\n",
    "# \n",
    "# # ----------------------\n",
    "# # 定义生成模型 (Generative Model)\n",
    "# # ----------------------\n",
    "# prior = bf.simulation.Prior(prior_fun=prior_fun)\n",
    "# simulator = bf.simulation.Simulator(simulator_fun=likelihood_fun)\n",
    "# model = bf.simulation.GenerativeModel(prior=prior, simulator=simulator)\n",
    "# \n",
    "# # ----------------------\n",
    "# # 定义总结网络 (Summary Network)\n",
    "# # ----------------------\n",
    "# summary_net = bf.networks.DeepSet(summary_dim=10)\n",
    "# \n",
    "# # ----------------------\n",
    "# # 定义推断网络 (Inference Network)\n",
    "# # ----------------------\n",
    "# inference_net = bf.networks.InvertibleNetwork(\n",
    "#     num_params=1,          # 只推断 1 个参数 intercept\n",
    "#     num_coupling_layers=4  # 网络的耦合层数量\n",
    "# )\n",
    "# \n",
    "# # ----------------------\n",
    "# # 定义后验推断器 (Posterior Amortizer)\n",
    "# # ----------------------\n",
    "# amortizer = bf.amortizers.AmortizedPosterior(inference_net, summary_net)\n",
    "# \n",
    "# # ----------------------\n",
    "# # 定义 Trainer (训练器)\n",
    "# # ----------------------\n",
    "# trainer = bf.trainers.Trainer(amortizer=amortizer, generative_model=model)\n",
    "# \n",
    "# # 进行一次前向推理，验证生成模型是否工作\n",
    "# _ = model(batch_size=47)  # 验证生成模型是否正常工作\n",
    "# \n",
    "# # ---------------------- \n",
    "# # 不进行训练，只做一次数据生成\n",
    "# # ----------------------\n",
    "# # 调用模型，生成一个批次的数据\n",
    "# generated_data = model(batch_size=47)\n",
    "# \n",
    "# # 打印生成的数据\n",
    "# print(\"Generated data shape:\", generated_data.shape)\n",
    "# \n"
   ],
   "id": "40e70d97391ebe22",
   "outputs": [
    {
     "name": "stderr",
     "output_type": "stream",
     "text": [
      "INFO:root:Performing 2 pilot runs with the anonymous model...\n",
      "INFO:root:Shape of parameter batch after 2 pilot simulations: (batch_size = 2, 3, 47, 2)\n",
      "INFO:root:Shape of simulation batch after 2 pilot simulations: (batch_size = 2, 3, 100, 47)\n",
      "INFO:root:No optional prior non-batchable context provided.\n",
      "INFO:root:No optional prior batchable context provided.\n",
      "INFO:root:No optional simulation non-batchable context provided.\n",
      "INFO:root:No optional simulation batchable context provided.\n",
      "INFO:root:Performing a consistency check with provided components...\n",
      "2025-02-03 15:40:55.656633: W tensorflow/core/kernels/linalg/cholesky_op.cc:56] Cholesky decomposition was not successful. Eigen::LLT failed with error code 1. Filling lower-triangular output with NaNs.\n"
     ]
    }
   ],
   "execution_count": null
  },
  {
   "metadata": {},
   "cell_type": "code",
   "outputs": [],
   "execution_count": null,
   "source": [
    "# import tensorflow as tf\n",
    "# import tensorflow_probability as tfp\n",
    "# import bayesflow as bf\n",
    "# \n",
    "# def prior_fun(batch_size=1):\n",
    "#     \"\"\"\n",
    "#     返回形状 [batch_size, 47] 的 log_risk 样本\n",
    "#     \"\"\"\n",
    "#     # 确保 Q 是一个正定矩阵\n",
    "#     mvn = tfp.distributions.MultivariateNormalFullCovariance(\n",
    "#         loc=tf.constant(mu, dtype=tf.float32),  # [47]\n",
    "#         covariance_matrix=tf.constant(Q, dtype=tf.float32)  # [47,47], 正定\n",
    "#     )\n",
    "#     # sample => [batch_size, 47]\n",
    "#     log_risk_samples = mvn.sample(batch_size)\n",
    "#     return log_risk_samples\n",
    "# \n",
    "# def likelihood_fun(params, n_obs=100):\n",
    "#     \"\"\"\n",
    "#     params: 形状 [batch_size, 47], 表示每个batch的一组 log_risk\n",
    "#     返回:   形状 [batch_size, n_obs, 47]\n",
    "#     \"\"\"\n",
    "#     # tf.exp(log_risk) => [batch_size, 47]\n",
    "#     lam = tf.exp(params)\n",
    "# \n",
    "#     # 调用 tf.random.poisson\n",
    "#     # shape=[n_obs] 意味着对每个 batch 的 47个参数，生成 n_obs 次观测\n",
    "#     # 返回张量形状默认会是 [n_obs, batch_size, 47] 或者 [batch_size, n_obs, 47]，依赖TF版本及broadcast。\n",
    "#     observed_cases = tf.random.poisson(lam=lam, shape=[n_obs])  \n",
    "#     # 如果结果是 [n_obs, batch_size, 47]，则转置到 [batch_size, n_obs, 47]\n",
    "#     observed_cases = tf.transpose(observed_cases, perm=[1, 0, 2])\n",
    "# \n",
    "#     return observed_cases\n",
    "# \n",
    "# # 1) 将 prior_fun 包装成 BayesFlow 的 Prior\n",
    "# prior = bf.simulation.Prior(prior_fun=prior_fun)\n",
    "# \n",
    "# # 2) 将 likelihood_fun 包装成 BayesFlow 的 Simulator\n",
    "# simulator = bf.simulation.Simulator(simulator_fun=likelihood_fun)\n",
    "# \n",
    "# # 3) 组装成 generative model\n",
    "# model = bf.simulation.GenerativeModel(prior=prior, simulator=simulator)\n",
    "# \n",
    "# summary_net = bf.networks.DeepSet(\n",
    "#     summary_dim=10\n",
    "#     # 其余超参可改，如 num_layers, hidden_dim 等\n",
    "# )\n",
    "# \n",
    "# inference_net = bf.networks.InvertibleNetwork(\n",
    "#     num_params=47,            # 重点！要匹配你先验的维度\n",
    "#     num_coupling_layers=4     # 你可酌情调节\n",
    "#     # 还可以指定 hidden_layers, etc.\n",
    "# )\n",
    "# \n",
    "# amortizer = bf.amortizers.AmortizedPosterior(inference_net, summary_net)\n",
    "# trainer = bf.trainers.Trainer(amortizer=amortizer, generative_model=model)\n",
    "# \n",
    "# # 做一次测试生成\n",
    "# test_data = model(batch_size=8)  \n",
    "# # shape = [8, 100, 47]\n",
    "# print(\"test_data shape:\", test_data.shape)\n",
    "# \n",
    "# # 现在进行 online training\n",
    "# # 注意: 这里只是演示, 你可根据需要调节 n_steps, batch_size 等\n",
    "# trainer.train_online(n_steps=100, batch_size=8)\n",
    "# \n"
   ],
   "id": "c192a211bbd0033"
  },
  {
   "metadata": {
    "ExecuteTime": {
     "end_time": "2025-02-04T10:13:51.575075Z",
     "start_time": "2025-02-04T10:13:51.120344Z"
    }
   },
   "cell_type": "code",
   "source": [
    "import tensorflow as tf\n",
    "import tensorflow_probability as tfp\n",
    "import bayesflow as bf\n",
    "\n",
    "def prior_fun(batch_size=1):\n",
    "    \"\"\"\n",
    "    返回形状 [batch_size, 47] 的 log_risk 样本\n",
    "    \"\"\"\n",
    "    # 确保 Q 是一个正定矩阵\n",
    "    mvn = tfp.distributions.MultivariateNormalFullCovariance(\n",
    "        loc=tf.constant(mu, dtype=tf.float32),  # [47]\n",
    "        covariance_matrix=tf.constant(Q, dtype=tf.float32)  # [47,47], 正定\n",
    "    )\n",
    "    # sample => [batch_size, 47]\n",
    "    log_risk_samples = mvn.sample(batch_size)\n",
    "    return log_risk_samples\n",
    "\n",
    "def likelihood_fun(params, n_obs=100):\n",
    "    \"\"\"\n",
    "    params: 形状 [batch_size, 47], 表示每个batch的一组 log_risk\n",
    "    返回:   形状 [batch_size, n_obs, 47]\n",
    "    \"\"\"\n",
    "    # tf.exp(log_risk) => [batch_size, 47]\n",
    "    lam = tf.exp(params)\n",
    "\n",
    "    # 调用 tf.random.poisson\n",
    "    # shape=[n_obs] 意味着对每个 batch 的 47个参数，生成 n_obs 次观测\n",
    "    # 返回张量形状默认会是 [n_obs, batch_size, 47] 或者 [batch_size, n_obs, 47]，依赖TF版本及broadcast。\n",
    "    observed_cases = tf.random.poisson(lam=lam, shape=[n_obs])  \n",
    "    # 如果结果是 [n_obs, batch_size, 47]，则转置到 [batch_size, n_obs, 47]\n",
    "    observed_cases = tf.transpose(observed_cases, perm=[1, 0, 2])\n",
    "\n",
    "    return observed_cases\n",
    "\n",
    "def simple_configurator(model_output):\n",
    "    # 取出先验采样\n",
    "    prior_draws = model_output[\"prior_draws\"]  # [b, 1, 47]\n",
    "    prior_draws = tf.squeeze(prior_draws, axis=1)  # => [b, 47]\n",
    "    model_output[\"parameters\"] = prior_draws       # 使BayesFlow识别到参数\n",
    "\n",
    "    # 取出模拟数据\n",
    "    sim_data = model_output[\"sim_data\"]  # [b, 1, n_obs, 47]\n",
    "    sim_data = tf.squeeze(sim_data, axis=1)  # => [b, n_obs, 47]\n",
    "\n",
    "    # 告诉 BayesFlow：把这份数据当作 summary_conditions\n",
    "    model_output[\"summary_conditions\"] = sim_data\n",
    "    # 或者你想保留 sim_data 这个键也行：\n",
    "    # model_output[\"sim_data\"] = sim_data\n",
    "\n",
    "    return model_output\n",
    "\n",
    "\n",
    "\n",
    "\n",
    "# 1) 将 prior_fun 包装成 BayesFlow 的 Prior\n",
    "prior = bf.simulation.Prior(prior_fun=prior_fun)\n",
    "\n",
    "# 2) 将 likelihood_fun 包装成 BayesFlow 的 Simulator\n",
    "simulator = bf.simulation.Simulator(simulator_fun=likelihood_fun)\n",
    "\n",
    "# 3) 组装成 generative model\n",
    "model = bf.simulation.GenerativeModel(prior=prior, simulator=simulator)\n",
    "\n",
    "summary_net = bf.networks.SetTransformer(\n",
    "    input_dim= 47\n",
    ")\n",
    "\n",
    "inference_net = bf.networks.InvertibleNetwork(\n",
    "    num_params=47,            # 重点！要匹配你先验的维度\n",
    "    num_coupling_layers=4     # 你可酌情调节\n",
    "    # 还可以指定 hidden_layers, etc.\n",
    ")\n",
    "\n",
    "amortizer = bf.amortizers.AmortizedPosterior(inference_net, summary_net)\n",
    "trainer = bf.trainers.Trainer(\n",
    "    amortizer=amortizer, \n",
    "    generative_model=model,\n",
    "    configurator=simple_configurator  # <-- 指定自定义的configurator\n",
    ")\n",
    "\n",
    "\n",
    "# 做一次测试生成\n",
    "test_data = model(batch_size=8)  \n",
    "# shape = [8, 100, 47]\n",
    "print(\"test_data:\", test_data)\n"
   ],
   "id": "b0ff906cb6807b97",
   "outputs": [
    {
     "name": "stderr",
     "output_type": "stream",
     "text": [
      "INFO:root:Performing 2 pilot runs with the anonymous model...\n",
      "INFO:root:Shape of parameter batch after 2 pilot simulations: (batch_size = 2, 1, 47)\n",
      "INFO:root:Shape of simulation batch after 2 pilot simulations: (batch_size = 2, 1, 100, 47)\n",
      "INFO:root:No optional prior non-batchable context provided.\n",
      "INFO:root:No optional prior batchable context provided.\n",
      "INFO:root:No optional simulation non-batchable context provided.\n",
      "INFO:root:No optional simulation batchable context provided.\n",
      "INFO:root:Performing a consistency check with provided components...\n",
      "INFO:root:Done.\n"
     ]
    },
    {
     "name": "stdout",
     "output_type": "stream",
     "text": [
      "test_data: {'prior_non_batchable_context': None, 'prior_batchable_context': None, 'prior_draws': array([[[ 0.8935258 , -1.6783502 , -0.02551815, -1.4702312 ,\n",
      "         -0.1919902 , -2.8637094 , -1.406093  , -2.9898899 ,\n",
      "         -0.13486409, -0.31954703, -0.35830936, -0.17603141,\n",
      "          1.1533508 , -2.029516  , -0.7967203 , -0.5755219 ,\n",
      "          0.8437338 , -0.30460304, -0.60200655,  1.7435305 ,\n",
      "          0.13680017, -0.3794902 ,  0.29123542,  0.8843081 ,\n",
      "          0.20354742,  0.9841508 ,  1.5680236 ,  2.1809146 ,\n",
      "          1.537014  , -0.4646935 ,  2.1282642 ,  0.4366497 ,\n",
      "         -1.5883278 , -0.05516565, -1.5440953 , -0.35173124,\n",
      "         -1.1491446 , -1.1372361 , -0.6114719 ,  1.752664  ,\n",
      "         -0.8746476 ,  0.62201416,  1.4713683 ,  3.758645  ,\n",
      "          1.5928798 , -0.6585144 ,  0.5551379 ]],\n",
      "\n",
      "       [[ 0.19516928, -1.6067    , -2.0314894 , -1.4951557 ,\n",
      "         -2.6858666 ,  0.8495594 , -0.60075414,  0.926971  ,\n",
      "          1.1180106 ,  1.0197097 ,  0.04421227,  0.3807655 ,\n",
      "          0.7100457 , -1.539449  ,  0.2429755 ,  0.8718622 ,\n",
      "         -0.9027972 , -2.9266856 , -0.17117247, -1.2967958 ,\n",
      "          0.65892047,  0.59939027,  0.9606188 , -0.7832215 ,\n",
      "         -1.8514934 ,  0.3567297 ,  1.8782091 ,  0.3653124 ,\n",
      "          2.5070767 ,  0.46249935,  1.1761041 , -0.23934695,\n",
      "          0.7096084 , -0.828018  ,  0.5696968 ,  1.0680555 ,\n",
      "         -1.6255136 , -1.3328952 ,  1.9414158 ,  0.503836  ,\n",
      "          0.78201574, -0.45064598,  2.6182919 , -1.854589  ,\n",
      "          0.84309316,  0.8435484 , -0.9809597 ]],\n",
      "\n",
      "       [[ 0.67198986,  0.5707307 ,  0.5072112 , -1.0430366 ,\n",
      "          0.01163784, -0.86151505,  1.1314644 ,  2.3918526 ,\n",
      "         -0.88356704,  0.47976318,  0.7906767 ,  0.27266407,\n",
      "          3.14631   ,  0.78051096,  2.6520703 , -0.5704312 ,\n",
      "         -0.6991167 , -2.5084813 , -0.9234823 ,  0.71881783,\n",
      "          0.14717345, -1.4459796 ,  0.61886764, -2.3369274 ,\n",
      "         -1.3924823 , -0.78397155,  1.7997729 , -1.7298776 ,\n",
      "          2.225325  , -2.2114074 , -0.263659  ,  0.45700598,\n",
      "         -0.7969751 , -0.6595998 ,  0.3256617 , -0.41233134,\n",
      "         -1.0875382 , -0.9980531 ,  0.7828293 ,  1.1038219 ,\n",
      "          0.9834416 , -1.0932655 , -4.7046685 ,  0.43502936,\n",
      "          0.8503135 , -0.18164593,  3.733644  ]],\n",
      "\n",
      "       [[ 2.286324  , -0.8389162 , -0.78227574,  1.4070374 ,\n",
      "         -0.07847946, -0.2956874 , -1.451402  , -0.7319683 ,\n",
      "          0.01339014, -0.13691682,  1.1792772 ,  1.9283394 ,\n",
      "         -2.034273  , -0.8174935 ,  1.3108126 ,  1.2033222 ,\n",
      "         -2.6718855 ,  1.8191558 ,  0.5983046 , -0.02206823,\n",
      "          0.3490999 ,  1.4829206 , -0.5945456 ,  1.6042652 ,\n",
      "         -1.8792535 , -0.23813297, -0.91746885,  1.0767682 ,\n",
      "         -0.01551712, -1.3470577 , -0.52205306,  0.42463863,\n",
      "         -1.294694  ,  1.3102267 ,  1.5239823 ,  2.0315719 ,\n",
      "         -1.3982908 , -0.25077745, -0.70887357, -0.92360556,\n",
      "         -1.2984531 , -1.6290035 ,  0.3807367 ,  1.5800933 ,\n",
      "         -0.80577296, -1.7058483 ,  1.880637  ]],\n",
      "\n",
      "       [[ 0.70626086, -0.71805024,  1.8211781 ,  0.13071449,\n",
      "         -1.1233003 , -0.366863  ,  1.0810626 ,  2.276083  ,\n",
      "         -0.5015497 ,  1.0697948 ,  0.48334664, -1.6045077 ,\n",
      "          0.48032242, -0.09542675, -0.8443295 ,  0.15716192,\n",
      "         -1.1960921 , -1.1155889 , -1.5943633 , -1.9284563 ,\n",
      "         -0.350539  ,  0.01184478,  2.486925  ,  0.17770949,\n",
      "          0.6667749 ,  0.02426308,  1.6769588 , -0.72442204,\n",
      "          0.22432393, -1.1859839 , -0.07898374,  0.5192292 ,\n",
      "         -2.0792885 , -1.086514  ,  0.5355089 , -0.14349139,\n",
      "         -0.22482535,  1.8235481 , -1.8452896 ,  0.50613594,\n",
      "          0.8547281 ,  3.4035559 , -1.2876842 , -1.0492084 ,\n",
      "         -0.6694513 ,  0.45660293,  0.24100475]],\n",
      "\n",
      "       [[-1.8683643 , -1.4312625 , -1.934339  ,  0.2789563 ,\n",
      "          2.6277294 ,  0.7464522 , -0.76952285, -2.1409392 ,\n",
      "         -1.9706805 , -1.4286716 ,  1.290764  ,  2.6184587 ,\n",
      "         -1.5588288 , -0.6352193 , -1.6675296 ,  1.1146586 ,\n",
      "         -1.2300817 , -1.3395684 ,  1.1538225 ,  1.7338558 ,\n",
      "         -0.4661228 ,  2.4088647 ,  0.6763166 , -0.32983506,\n",
      "          1.0770245 ,  1.9600915 ,  0.3616881 ,  1.3920833 ,\n",
      "          1.9181435 ,  0.93842125, -0.21456312, -0.19127876,\n",
      "         -0.7534772 ,  1.0224687 , -0.46523905, -2.0701685 ,\n",
      "          0.69086635, -2.604541  ,  1.0512799 , -0.18792865,\n",
      "         -0.12084922,  1.2861263 ,  0.8287188 , -1.9987437 ,\n",
      "          0.583503  , -1.0723523 ,  0.6901416 ]],\n",
      "\n",
      "       [[-0.5974625 ,  2.4931004 , -0.30425453,  0.8797653 ,\n",
      "         -0.03290582,  0.8826556 , -0.02318435, -0.10759541,\n",
      "         -2.261548  , -1.0718303 , -1.3723019 ,  1.1529293 ,\n",
      "         -0.4941789 ,  0.70638466, -2.2738204 ,  1.0702939 ,\n",
      "         -3.1196504 , -1.6679258 ,  0.07184167,  0.13023907,\n",
      "         -0.684439  , -0.37841195,  1.1612222 , -0.8400638 ,\n",
      "          0.27421874, -0.21633251,  0.68770134,  1.6867104 ,\n",
      "          1.091512  ,  1.1983194 , -0.3580134 , -0.37708804,\n",
      "         -1.179     , -0.27800196,  1.4927516 ,  0.9398494 ,\n",
      "          1.0878955 ,  1.7468928 , -1.3232121 ,  1.3841509 ,\n",
      "          0.82926637, -1.7623546 , -2.1709793 ,  1.0113597 ,\n",
      "         -0.43819094,  0.29201084,  1.0608493 ]],\n",
      "\n",
      "       [[-1.5459037 , -0.34229997,  0.4355384 ,  0.43305883,\n",
      "          2.9729729 , -3.0220125 ,  0.11801847, -1.229652  ,\n",
      "         -0.9955007 ,  1.668268  , -0.5478957 ,  3.120467  ,\n",
      "         -2.0916026 , -0.9213428 ,  1.127353  , -1.231278  ,\n",
      "         -2.6811488 , -0.7411406 , -1.9185317 ,  0.9167839 ,\n",
      "         -0.1656007 ,  0.03222692,  0.23614493,  1.3229803 ,\n",
      "          0.5867651 ,  3.1182537 , -1.1004261 ,  2.2035894 ,\n",
      "         -0.16952103,  2.1119943 ,  0.15558672,  1.0540239 ,\n",
      "         -2.1312954 , -1.102337  ,  0.92003417, -0.48948616,\n",
      "         -0.14748025, -0.43206358,  0.77795976,  2.8299792 ,\n",
      "         -0.08655411, -3.5732799 ,  0.8898745 , -0.20087266,\n",
      "          0.48587072,  0.67559075, -1.3271371 ]]], dtype=float32), 'sim_non_batchable_context': None, 'sim_batchable_context': None, 'sim_data': array([[[[ 4.,  0.,  0., ...,  4.,  0.,  1.],\n",
      "         [ 1.,  0.,  1., ...,  5.,  0.,  3.],\n",
      "         [ 2.,  0.,  2., ...,  7.,  1.,  2.],\n",
      "         ...,\n",
      "         [ 1.,  0.,  2., ...,  5.,  0.,  3.],\n",
      "         [ 1.,  0.,  0., ...,  4.,  1.,  0.],\n",
      "         [ 3.,  1.,  1., ...,  5.,  2.,  1.]]],\n",
      "\n",
      "\n",
      "       [[[ 0.,  0.,  0., ...,  2.,  1.,  1.],\n",
      "         [ 1.,  0.,  0., ...,  3.,  2.,  0.],\n",
      "         [ 0.,  0.,  1., ...,  2.,  3.,  0.],\n",
      "         ...,\n",
      "         [ 1.,  1.,  0., ...,  2.,  3.,  0.],\n",
      "         [ 1.,  0.,  0., ...,  0.,  2.,  0.],\n",
      "         [ 1.,  0.,  0., ...,  3.,  3.,  0.]]],\n",
      "\n",
      "\n",
      "       [[[ 2.,  1.,  2., ...,  1.,  1., 42.],\n",
      "         [ 4.,  0.,  1., ...,  4.,  0., 52.],\n",
      "         [ 2.,  3.,  0., ...,  3.,  1., 42.],\n",
      "         ...,\n",
      "         [ 2.,  2.,  0., ...,  2.,  2., 36.],\n",
      "         [ 2.,  3.,  0., ...,  1.,  4., 49.],\n",
      "         [ 1.,  2.,  2., ...,  2.,  1., 41.]]],\n",
      "\n",
      "\n",
      "       ...,\n",
      "\n",
      "\n",
      "       [[[ 0.,  0.,  0., ...,  3.,  1.,  5.],\n",
      "         [ 1.,  0.,  0., ...,  4.,  0.,  4.],\n",
      "         [ 0.,  1.,  0., ...,  3.,  0.,  0.],\n",
      "         ...,\n",
      "         [ 0.,  1.,  1., ...,  2.,  0.,  2.],\n",
      "         [ 1.,  1.,  0., ...,  0.,  1.,  1.],\n",
      "         [ 0.,  0.,  0., ...,  5.,  1.,  2.]]],\n",
      "\n",
      "\n",
      "       [[[ 3., 14.,  1., ...,  0.,  1.,  6.],\n",
      "         [ 0.,  8.,  1., ...,  0.,  3.,  1.],\n",
      "         [ 0., 11.,  0., ...,  0.,  0.,  5.],\n",
      "         ...,\n",
      "         [ 0.,  7.,  0., ...,  3.,  2.,  5.],\n",
      "         [ 0., 11.,  2., ...,  1.,  1.,  2.],\n",
      "         [ 0., 14.,  0., ...,  0.,  1.,  5.]]],\n",
      "\n",
      "\n",
      "       [[[ 0.,  1.,  0., ...,  1.,  2.,  0.],\n",
      "         [ 0.,  0.,  4., ...,  2.,  3.,  0.],\n",
      "         [ 0.,  1.,  2., ...,  0.,  3.,  0.],\n",
      "         ...,\n",
      "         [ 0.,  2.,  0., ...,  3.,  0.,  0.],\n",
      "         [ 0.,  0.,  0., ...,  2.,  1.,  0.],\n",
      "         [ 0.,  0.,  2., ...,  2.,  3.,  0.]]]], dtype=float32)}\n"
     ]
    }
   ],
   "execution_count": 19
  },
  {
   "metadata": {
    "ExecuteTime": {
     "end_time": "2025-02-04T10:21:12.204367Z",
     "start_time": "2025-02-04T10:15:00.360222Z"
    }
   },
   "cell_type": "code",
   "source": [
    "# ----------------------\n",
    "# 开始训练\n",
    "# ----------------------\n",
    "history = trainer.train_online(\n",
    "    epochs=10,                # 总训练轮数\n",
    "    iterations_per_epoch=500,  # 每轮训练的迭代次数\n",
    "    batch_size=8,            # 每次训练的样本批量大小\n",
    "    validation_sims=200       # 验证集样本数量\n",
    ")\n",
    "\n",
    "print(\"训练完成！\")\n"
   ],
   "id": "427f374d6b1bb101",
   "outputs": [
    {
     "name": "stderr",
     "output_type": "stream",
     "text": [
      "INFO:root:Generated 200 simulations for validation.\n",
      "Training epoch 1: 100%|██████████| 500/500 [00:38<00:00, 13.09it/s, Epoch: 1, Iter: 500,Loss: 72.465,W.Decay: 0.286,Avg.Loss: 74.362,Avg.W.Decay: 0.286,LR: 4.66E-04]\n",
      "INFO:root:Validation, Epoch: 1, Loss: 73.333\n",
      "Training epoch 2: 100%|██████████| 500/500 [00:36<00:00, 13.88it/s, Epoch: 2, Iter: 500,Loss: 73.939,W.Decay: 0.284,Avg.Loss: 72.710,Avg.W.Decay: 0.285,LR: 4.17E-04]\n",
      "INFO:root:Validation, Epoch: 2, Loss: 72.113\n",
      "Training epoch 3: 100%|██████████| 500/500 [00:35<00:00, 13.91it/s, Epoch: 3, Iter: 500,Loss: 75.398,W.Decay: 0.284,Avg.Loss: 71.628,Avg.W.Decay: 0.284,LR: 3.51E-04]\n",
      "INFO:root:Validation, Epoch: 3, Loss: 71.179\n",
      "Training epoch 4: 100%|██████████| 500/500 [00:36<00:00, 13.58it/s, Epoch: 4, Iter: 500,Loss: 73.615,W.Decay: 0.283,Avg.Loss: 70.655,Avg.W.Decay: 0.283,LR: 2.75E-04]\n",
      "INFO:root:Validation, Epoch: 4, Loss: 69.959\n",
      "Training epoch 5: 100%|██████████| 500/500 [00:36<00:00, 13.70it/s, Epoch: 5, Iter: 500,Loss: 70.965,W.Decay: 0.282,Avg.Loss: 69.863,Avg.W.Decay: 0.282,LR: 1.97E-04]\n",
      "INFO:root:Validation, Epoch: 5, Loss: 69.434\n",
      "Training epoch 6: 100%|██████████| 500/500 [00:37<00:00, 13.36it/s, Epoch: 6, Iter: 500,Loss: 68.510,W.Decay: 0.281,Avg.Loss: 69.085,Avg.W.Decay: 0.281,LR: 1.24E-04]\n",
      "INFO:root:Validation, Epoch: 6, Loss: 68.420\n",
      "Training epoch 7: 100%|██████████| 500/500 [00:36<00:00, 13.53it/s, Epoch: 7, Iter: 500,Loss: 70.245,W.Decay: 0.281,Avg.Loss: 68.391,Avg.W.Decay: 0.281,LR: 6.37E-05]\n",
      "INFO:root:Validation, Epoch: 7, Loss: 67.897\n",
      "Training epoch 8: 100%|██████████| 500/500 [00:37<00:00, 13.51it/s, Epoch: 8, Iter: 500,Loss: 67.190,W.Decay: 0.280,Avg.Loss: 68.052,Avg.W.Decay: 0.281,LR: 2.13E-05]\n",
      "INFO:root:Validation, Epoch: 8, Loss: 67.711\n",
      "Training epoch 9: 100%|██████████| 500/500 [00:37<00:00, 13.44it/s, Epoch: 9, Iter: 500,Loss: 70.159,W.Decay: 0.280,Avg.Loss: 67.900,Avg.W.Decay: 0.280,LR: 1.29E-06]\n",
      "INFO:root:Validation, Epoch: 9, Loss: 67.578\n",
      "Training epoch 10: 100%|██████████| 500/500 [00:37<00:00, 13.43it/s, Epoch: 10, Iter: 500,Loss: 65.228,W.Decay: 0.280,Avg.Loss: 67.723,Avg.W.Decay: 0.280,LR: 0.00E+00]\n",
      "INFO:root:Validation, Epoch: 10, Loss: 67.578\n"
     ]
    },
    {
     "name": "stdout",
     "output_type": "stream",
     "text": [
      "训练完成！\n"
     ]
    },
    {
     "name": "stderr",
     "output_type": "stream",
     "text": [
      "/opt/anaconda3/envs/bayesflow/lib/python3.11/site-packages/bayesflow/helper_classes.py:683: FutureWarning: The behavior of DataFrame concatenation with empty or all-NA entries is deprecated. In a future version, this will no longer exclude empty or all-NA columns when determining the result dtypes. To retain the old behavior, exclude the relevant entries before the concat operation.\n",
      "  losses_list = pd.concat(losses_list, axis=0).value.to_list()\n"
     ]
    }
   ],
   "execution_count": 22
  },
  {
   "metadata": {
    "ExecuteTime": {
     "end_time": "2025-02-04T10:21:32.109869Z",
     "start_time": "2025-02-04T10:21:21.106472Z"
    }
   },
   "cell_type": "code",
   "source": [
    "# 1) 生成一个测试集\n",
    "test_size = 2000\n",
    "test_batch = model(batch_size=test_size)\n",
    "# test_batch 里包含: \n",
    "#   test_batch[\"prior_draws\"]       # shape [test_size, 1, 47] (若 n_draws=1)\n",
    "#   test_batch[\"sim_data\"]          # shape [test_size, 1, n_obs, 47]\n",
    "#   可能还有 \"meta_info\" 等别的字段\n",
    "\n",
    "# 2) 用 configurator 重整形状\n",
    "test_batch = simple_configurator(test_batch)\n",
    "# 现在:\n",
    "#   test_batch[\"parameters\"]        # shape [test_size, 47]\n",
    "#   test_batch[\"summary_conditions\"]# shape [test_size, n_obs, 47]\n",
    "\n",
    "# 3) 分离出真参数和观测\n",
    "theta_true = test_batch[\"parameters\"]         # [test_size, 47]\n",
    "x_test     = test_batch[\"summary_conditions\"] # [test_size, n_obs, 47]\n"
   ],
   "id": "7fd2dd59f13dac1e",
   "outputs": [],
   "execution_count": 23
  },
  {
   "metadata": {
    "ExecuteTime": {
     "end_time": "2025-02-04T10:25:25.092177Z",
     "start_time": "2025-02-04T10:25:23.397915Z"
    }
   },
   "cell_type": "code",
   "source": [
    "input_dict = {\"summary_conditions\": x_test}\n",
    "posterior_samples = amortizer.sample(input_dict, n_samples=100, to_numpy=True)\n",
    "\n",
    "# theta_samples 形状: [test_size, n_posterior_samples, 47]\n"
   ],
   "id": "ff754d9c351f31e2",
   "outputs": [],
   "execution_count": 26
  },
  {
   "metadata": {
    "ExecuteTime": {
     "end_time": "2025-02-04T10:26:05.011291Z",
     "start_time": "2025-02-04T10:25:59.536126Z"
    }
   },
   "cell_type": "code",
   "source": [
    "import numpy as np\n",
    "# 后验采样:\n",
    "input_dict = {\"summary_conditions\": x_test}  # 确保输入格式正确\n",
    "theta_samples = amortizer.sample(input_dict, n_samples=500, to_numpy=True)  \n",
    "\n",
    "\n",
    "# 后验均值\n",
    "posterior_means = theta_samples.mean(axis=1)  # => [test_size, 47]\n",
    "\n",
    "# 与真参数对比\n",
    "theta_true_np = theta_true.numpy()  # => [test_size, 47]\n",
    "mse = np.mean((posterior_means - theta_true_np)**2)\n",
    "print(\"Posterior mean MSE =\", mse)\n"
   ],
   "id": "2a66aa6a3bc520c8",
   "outputs": [
    {
     "name": "stdout",
     "output_type": "stream",
     "text": [
      "Posterior mean MSE = 1.5065843\n"
     ]
    }
   ],
   "execution_count": 28
  },
  {
   "metadata": {
    "ExecuteTime": {
     "end_time": "2025-02-04T10:40:25.854720Z",
     "start_time": "2025-02-04T10:40:25.606828Z"
    }
   },
   "cell_type": "code",
   "source": [
    "import numpy as np\n",
    "\n",
    "posterior_means = theta_samples.mean(axis=1)    # [test_size, 47]\n",
    "posterior_vars  = theta_samples.var(axis=1)     # [test_size, 47]\n",
    "mse_per_dim = np.mean((posterior_means - theta_true)**2, axis=0)\n",
    "print(\"MSE per dimension (47 dims):\", mse_per_dim)\n"
   ],
   "id": "32a6709211e5d076",
   "outputs": [
    {
     "name": "stdout",
     "output_type": "stream",
     "text": [
      "MSE per dimension (47 dims): [1.6366448  2.63546    1.0594751  0.76740676 2.1097806  1.956761\n",
      " 1.2554277  2.8740022  1.0849876  1.1856735  1.1016594  2.0459263\n",
      " 0.7443749  0.79282016 2.371237   0.7638977  1.7302583  2.0397904\n",
      " 1.1147163  1.11868    1.0639788  1.311651   0.9358189  1.0053694\n",
      " 1.8535951  1.2763115  1.7377216  1.1116188  1.4587002  1.4296274\n",
      " 1.4556426  1.0309477  1.3826393  1.1353819  1.6988935  1.7592765\n",
      " 1.7632159  1.2828435  1.6004134  1.4990789  1.985598   1.4621035\n",
      " 1.588435   2.091395   1.4444824  1.5464802  2.5092623 ]\n"
     ]
    }
   ],
   "execution_count": 31
  },
  {
   "metadata": {
    "ExecuteTime": {
     "end_time": "2025-02-04T10:40:41.107945Z",
     "start_time": "2025-02-04T10:40:41.099601Z"
    }
   },
   "cell_type": "code",
   "source": [
    "bias = np.mean(posterior_means - theta_true, axis=0)  # shape [47]\n",
    "print(\"Mean bias across test set, per dimension:\", bias)\n"
   ],
   "id": "4ed658387f77ce44",
   "outputs": [
    {
     "name": "stdout",
     "output_type": "stream",
     "text": [
      "Mean bias across test set, per dimension: [-0.04909414 -0.01510814  0.02551518  0.04869845 -0.03131106  0.02827244\n",
      " -0.00889206  0.0361018  -0.02500717 -0.04163445 -0.02441601 -0.00163136\n",
      "  0.05812452 -0.01475854  0.01750979  0.00263184  0.02113112  0.08130535\n",
      "  0.03107602 -0.05161801  0.02051635 -0.0118619   0.01025875 -0.0351148\n",
      " -0.01610831  0.00487701  0.0106229  -0.04800817 -0.0523546   0.02818106\n",
      " -0.03560602  0.03050803  0.02203771  0.0173383  -0.00810698 -0.02965671\n",
      " -0.03091044  0.02235381  0.00767428  0.06824006 -0.0335241   0.01413976\n",
      " -0.03640479  0.04791142 -0.04082818  0.03967031 -0.04870167]\n"
     ]
    }
   ],
   "execution_count": 32
  }
 ],
 "metadata": {
  "kernelspec": {
   "display_name": "Python 3",
   "language": "python",
   "name": "python3"
  },
  "language_info": {
   "codemirror_mode": {
    "name": "ipython",
    "version": 2
   },
   "file_extension": ".py",
   "mimetype": "text/x-python",
   "name": "python",
   "nbconvert_exporter": "python",
   "pygments_lexer": "ipython2",
   "version": "2.7.6"
  }
 },
 "nbformat": 4,
 "nbformat_minor": 5
}
